{
 "cells": [
  {
   "cell_type": "code",
   "execution_count": 1,
   "metadata": {},
   "outputs": [],
   "source": [
    "import numpy as np\n",
    "import pandas as pd\n",
    "from sklearn.model_selection import train_test_split\n",
    "from supervised.automl import AutoML"
   ]
  },
  {
   "cell_type": "code",
   "execution_count": 2,
   "metadata": {},
   "outputs": [],
   "source": [
    "df = pd.read_csv(\n",
    "    \"https://raw.githubusercontent.com/pplonski/datasets-for-start/master/adult/data.csv\",\n",
    "    skipinitialspace=True,\n",
    ")\n",
    "\n",
    "X = df[df.columns[:-1]]\n",
    "y = df[\"income\"]"
   ]
  },
  {
   "cell_type": "code",
   "execution_count": 3,
   "metadata": {},
   "outputs": [],
   "source": [
    "X_train, X_test, y_train, y_test = train_test_split(X, y, test_size=0.2)"
   ]
  },
  {
   "cell_type": "code",
   "execution_count": 4,
   "metadata": {},
   "outputs": [
    {
     "data": {
      "text/html": [
       "<div>\n",
       "<style scoped>\n",
       "    .dataframe tbody tr th:only-of-type {\n",
       "        vertical-align: middle;\n",
       "    }\n",
       "\n",
       "    .dataframe tbody tr th {\n",
       "        vertical-align: top;\n",
       "    }\n",
       "\n",
       "    .dataframe thead th {\n",
       "        text-align: right;\n",
       "    }\n",
       "</style>\n",
       "<table border=\"1\" class=\"dataframe\">\n",
       "  <thead>\n",
       "    <tr style=\"text-align: right;\">\n",
       "      <th></th>\n",
       "      <th>age</th>\n",
       "      <th>workclass</th>\n",
       "      <th>fnlwgt</th>\n",
       "      <th>education</th>\n",
       "      <th>education-num</th>\n",
       "      <th>marital-status</th>\n",
       "      <th>occupation</th>\n",
       "      <th>relationship</th>\n",
       "      <th>race</th>\n",
       "      <th>sex</th>\n",
       "      <th>capital-gain</th>\n",
       "      <th>capital-loss</th>\n",
       "      <th>hours-per-week</th>\n",
       "      <th>native-country</th>\n",
       "    </tr>\n",
       "  </thead>\n",
       "  <tbody>\n",
       "    <tr>\n",
       "      <th>24518</th>\n",
       "      <td>38</td>\n",
       "      <td>Private</td>\n",
       "      <td>208379</td>\n",
       "      <td>Bachelors</td>\n",
       "      <td>13</td>\n",
       "      <td>Never-married</td>\n",
       "      <td>Machine-op-inspct</td>\n",
       "      <td>Not-in-family</td>\n",
       "      <td>White</td>\n",
       "      <td>Female</td>\n",
       "      <td>0</td>\n",
       "      <td>0</td>\n",
       "      <td>8</td>\n",
       "      <td>United-States</td>\n",
       "    </tr>\n",
       "    <tr>\n",
       "      <th>10185</th>\n",
       "      <td>48</td>\n",
       "      <td>Self-emp-not-inc</td>\n",
       "      <td>164582</td>\n",
       "      <td>Some-college</td>\n",
       "      <td>10</td>\n",
       "      <td>Married-civ-spouse</td>\n",
       "      <td>Farming-fishing</td>\n",
       "      <td>Husband</td>\n",
       "      <td>White</td>\n",
       "      <td>Male</td>\n",
       "      <td>7298</td>\n",
       "      <td>0</td>\n",
       "      <td>60</td>\n",
       "      <td>United-States</td>\n",
       "    </tr>\n",
       "    <tr>\n",
       "      <th>11694</th>\n",
       "      <td>26</td>\n",
       "      <td>Private</td>\n",
       "      <td>102476</td>\n",
       "      <td>Bachelors</td>\n",
       "      <td>13</td>\n",
       "      <td>Married-civ-spouse</td>\n",
       "      <td>Exec-managerial</td>\n",
       "      <td>Husband</td>\n",
       "      <td>White</td>\n",
       "      <td>Male</td>\n",
       "      <td>0</td>\n",
       "      <td>0</td>\n",
       "      <td>40</td>\n",
       "      <td>United-States</td>\n",
       "    </tr>\n",
       "    <tr>\n",
       "      <th>6738</th>\n",
       "      <td>36</td>\n",
       "      <td>Private</td>\n",
       "      <td>218490</td>\n",
       "      <td>Assoc-acdm</td>\n",
       "      <td>12</td>\n",
       "      <td>Married-civ-spouse</td>\n",
       "      <td>Craft-repair</td>\n",
       "      <td>Husband</td>\n",
       "      <td>White</td>\n",
       "      <td>Male</td>\n",
       "      <td>0</td>\n",
       "      <td>0</td>\n",
       "      <td>35</td>\n",
       "      <td>United-States</td>\n",
       "    </tr>\n",
       "    <tr>\n",
       "      <th>5961</th>\n",
       "      <td>24</td>\n",
       "      <td>Private</td>\n",
       "      <td>200967</td>\n",
       "      <td>HS-grad</td>\n",
       "      <td>9</td>\n",
       "      <td>Married-civ-spouse</td>\n",
       "      <td>Craft-repair</td>\n",
       "      <td>Wife</td>\n",
       "      <td>White</td>\n",
       "      <td>Female</td>\n",
       "      <td>0</td>\n",
       "      <td>0</td>\n",
       "      <td>36</td>\n",
       "      <td>United-States</td>\n",
       "    </tr>\n",
       "  </tbody>\n",
       "</table>\n",
       "</div>"
      ],
      "text/plain": [
       "       age         workclass  fnlwgt     education  education-num  \\\n",
       "24518   38           Private  208379     Bachelors             13   \n",
       "10185   48  Self-emp-not-inc  164582  Some-college             10   \n",
       "11694   26           Private  102476     Bachelors             13   \n",
       "6738    36           Private  218490    Assoc-acdm             12   \n",
       "5961    24           Private  200967       HS-grad              9   \n",
       "\n",
       "           marital-status         occupation   relationship   race     sex  \\\n",
       "24518       Never-married  Machine-op-inspct  Not-in-family  White  Female   \n",
       "10185  Married-civ-spouse    Farming-fishing        Husband  White    Male   \n",
       "11694  Married-civ-spouse    Exec-managerial        Husband  White    Male   \n",
       "6738   Married-civ-spouse       Craft-repair        Husband  White    Male   \n",
       "5961   Married-civ-spouse       Craft-repair           Wife  White  Female   \n",
       "\n",
       "       capital-gain  capital-loss  hours-per-week native-country  \n",
       "24518             0             0               8  United-States  \n",
       "10185          7298             0              60  United-States  \n",
       "11694             0             0              40  United-States  \n",
       "6738              0             0              35  United-States  \n",
       "5961              0             0              36  United-States  "
      ]
     },
     "execution_count": 4,
     "metadata": {},
     "output_type": "execute_result"
    }
   ],
   "source": [
    "X_train.head()"
   ]
  },
  {
   "cell_type": "code",
   "execution_count": 5,
   "metadata": {},
   "outputs": [
    {
     "data": {
      "text/plain": [
       "24518    <=50K\n",
       "10185     >50K\n",
       "11694    <=50K\n",
       "6738     <=50K\n",
       "5961     <=50K\n",
       "Name: income, dtype: object"
      ]
     },
     "execution_count": 5,
     "metadata": {},
     "output_type": "execute_result"
    }
   ],
   "source": [
    "y_train.head()"
   ]
  },
  {
   "cell_type": "code",
   "execution_count": 6,
   "metadata": {},
   "outputs": [
    {
     "data": {
      "text/plain": [
       "((26048, 14), (6513, 14))"
      ]
     },
     "execution_count": 6,
     "metadata": {},
     "output_type": "execute_result"
    }
   ],
   "source": [
    "X_train.shape, X_test.shape"
   ]
  },
  {
   "cell_type": "code",
   "execution_count": 7,
   "metadata": {},
   "outputs": [
    {
     "name": "stdout",
     "output_type": "stream",
     "text": [
      "Create directory AutoML_1\n",
      "AutoML task to be solved: binary_classification\n",
      "AutoML will use algorithms: ['Baseline', 'Linear', 'Decision Tree', 'Random Forest', 'Extra Trees', 'LightGBM', 'Xgboost', 'CatBoost']\n",
      "AutoML will optimize for metric: logloss\n",
      "AutoML will try to check about 74 models\n"
     ]
    },
    {
     "name": "stderr",
     "output_type": "stream",
     "text": [
      "There are columns ['workclass', 'occupation', 'native-country'] with missing values which didnt have missing values in train dataset.\n",
      "There are columns ['workclass', 'occupation', 'native-country'] with missing values which didnt have missing values in train dataset.\n",
      "There are columns ['workclass', 'occupation', 'native-country'] with missing values which didnt have missing values in train dataset.\n",
      "There are columns ['workclass', 'occupation', 'native-country'] with missing values which didnt have missing values in train dataset.\n",
      "There are columns ['workclass', 'occupation', 'native-country'] with missing values which didnt have missing values in train dataset.\n"
     ]
    },
    {
     "name": "stdout",
     "output_type": "stream",
     "text": [
      "Baseline final logloss 0.553215793331749 time 0.57 seconds\n",
      "Linear final logloss 0.3860933976118958 time 16.86 seconds\n",
      "Decision Tree final logloss 0.370510137386051 time 32.1 seconds\n",
      "Decision Tree final logloss 0.3506798809988888 time 38.31 seconds\n",
      "Decision Tree final logloss 0.470718258150962 time 25.67 seconds\n",
      "LightGBM final logloss 0.31999646365796863 time 89.21 seconds\n",
      "Extra Trees final logloss 0.3167643790476965 time 758.36 seconds\n",
      "CatBoost final logloss 0.2877989651518992 time 43.44 seconds\n",
      "LightGBM final logloss 0.30679158731556516 time 95.62 seconds\n",
      "CatBoost final logloss 0.29167401441383384 time 43.83 seconds\n",
      "LightGBM final logloss 0.2853425277632073 time 37.26 seconds\n",
      "Random Forest final logloss 0.3032932375218784 time 260.59 seconds\n",
      "Xgboost final logloss 0.2829673358652106 time 64.23 seconds\n",
      "CatBoost final logloss 0.3618521081892141 time 43.54 seconds\n",
      "Xgboost final logloss 0.282682207538588 time 42.8 seconds\n",
      "Xgboost final logloss 0.2880039006634775 time 61.22 seconds\n",
      "Random Forest final logloss 0.30141981473457874 time 261.95 seconds\n",
      "Xgboost final logloss 0.2918198696106528 time 38.75 seconds\n",
      "CatBoost final logloss 0.2838902948855167 time 31.79 seconds\n",
      "Random Forest final logloss 0.30330339853723987 time 200.62 seconds\n",
      "CatBoost final logloss 0.2868705097182103 time 43.73 seconds\n",
      "Xgboost final logloss 0.29613754931415565 time 45.37 seconds\n",
      "LightGBM final logloss 0.3111625623771238 time 68.87 seconds\n",
      "CatBoost final logloss 0.2837292948509315 time 26.69 seconds\n",
      "LightGBM final logloss 0.28838932137763457 time 54.96 seconds\n",
      "CatBoost final logloss 0.29032933160561664 time 43.68 seconds\n",
      "LightGBM final logloss 0.2878659004369694 time 50.21 seconds\n",
      "Xgboost final logloss 0.2863503383257656 time 44.36 seconds\n",
      "CatBoost final logloss 0.3667811742589572 time 43.65 seconds\n",
      "LightGBM final logloss 0.317109623881578 time 76.78 seconds\n",
      "Xgboost final logloss 0.29167905367736524 time 41.4 seconds\n",
      "CatBoost final logloss 0.2899337939975367 time 43.92 seconds\n",
      "LightGBM final logloss 0.30650961809461713 time 152.52 seconds\n",
      "LightGBM final logloss 0.2989227698708249 time 90.55 seconds\n",
      "LightGBM final logloss 0.3310748251442278 time 88.7 seconds\n",
      "Xgboost final logloss 0.2864550189914367 time 91.6 seconds\n",
      "Xgboost final logloss 0.2963704460734534 time 82.26 seconds\n",
      "CatBoost final logloss 0.2893977151485104 time 43.63 seconds\n",
      "CatBoost final logloss 0.34019366148159835 time 27.88 seconds\n",
      "CatBoost final logloss 0.3461848247818913 time 10.35 seconds\n",
      "CatBoost final logloss 0.4233132906978434 time 10.47 seconds\n",
      "CatBoost final logloss 0.34770271016480225 time 3.38 seconds\n",
      "CatBoost final logloss 0.423381436131968 time 3.53 seconds\n",
      "Ensemble final logloss 0.28025737201637557 time 18.81 seconds\n"
     ]
    }
   ],
   "source": [
    "automl = AutoML(total_time_limit=60*60) # total train limit = 1 hour\n",
    "automl.fit(X_train, y_train)"
   ]
  }
 ],
 "metadata": {
  "kernelspec": {
   "display_name": "venv",
   "language": "python",
   "name": "venv"
  },
  "language_info": {
   "codemirror_mode": {
    "name": "ipython",
    "version": 3
   },
   "file_extension": ".py",
   "mimetype": "text/x-python",
   "name": "python",
   "nbconvert_exporter": "python",
   "pygments_lexer": "ipython3",
   "version": "3.6.7"
  }
 },
 "nbformat": 4,
 "nbformat_minor": 2
}
